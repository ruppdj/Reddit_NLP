{
 "cells": [
  {
   "cell_type": "code",
   "execution_count": 24,
   "metadata": {},
   "outputs": [],
   "source": [
    "import pandas as pd\n",
    "import numpy as np\n",
    "import matplotlib.pyplot as plt\n",
    "%matplotlib inline"
   ]
  },
  {
   "cell_type": "code",
   "execution_count": 25,
   "metadata": {},
   "outputs": [],
   "source": [
    "import json\n",
    "import decimal\n",
    "import boto3\n",
    "from boto3.dynamodb.conditions import Key, Attr"
   ]
  },
  {
   "cell_type": "code",
   "execution_count": 26,
   "metadata": {},
   "outputs": [],
   "source": [
    "dynamodb = boto3.resource('dynamodb')\n",
    "post_table = dynamodb.Table('posts')\n",
    "comment_table = dynamodb.Table('comments')"
   ]
  },
  {
   "cell_type": "code",
   "execution_count": 27,
   "metadata": {},
   "outputs": [],
   "source": [
    "# Helper class to convert a DynamoDB item to JSON.\n",
    "class DecimalEncoder(json.JSONEncoder):\n",
    "    def default(self, o):\n",
    "        if isinstance(o, decimal.Decimal):\n",
    "            if o % 1 > 0:\n",
    "                return float(o)\n",
    "            else:\n",
    "                return int(o)\n",
    "        return super(DecimalEncoder, self).default(o)\n",
    "\n",
    "\n",
    "\n",
    "posts = []\n",
    "    \n",
    "response = comment_table.scan(\n",
    "    \n",
    "    )\n",
    "\n",
    "for i in response['Items']:\n",
    "    posts.append(json.loads(json.dumps(i, cls=DecimalEncoder)))\n",
    "\n",
    "while 'LastEvaluatedKey' in response:\n",
    "    response = comment_table.scan(\n",
    "        ExclusiveStartKey=response['LastEvaluatedKey']\n",
    "        )\n",
    "\n",
    "    for i in response['Items']:\n",
    "        posts.append(json.loads(json.dumps(i, cls=DecimalEncoder)))"
   ]
  },
  {
   "cell_type": "code",
   "execution_count": 28,
   "metadata": {},
   "outputs": [
    {
     "data": {
      "text/html": [
       "<div>\n",
       "<style scoped>\n",
       "    .dataframe tbody tr th:only-of-type {\n",
       "        vertical-align: middle;\n",
       "    }\n",
       "\n",
       "    .dataframe tbody tr th {\n",
       "        vertical-align: top;\n",
       "    }\n",
       "\n",
       "    .dataframe thead th {\n",
       "        text-align: right;\n",
       "    }\n",
       "</style>\n",
       "<table border=\"1\" class=\"dataframe\">\n",
       "  <thead>\n",
       "    <tr style=\"text-align: right;\">\n",
       "      <th></th>\n",
       "      <th>comment_id</th>\n",
       "      <th>post_user</th>\n",
       "      <th>subreddit</th>\n",
       "      <th>post_date</th>\n",
       "      <th>score</th>\n",
       "      <th>votes_up</th>\n",
       "      <th>awards</th>\n",
       "      <th>comment_parent</th>\n",
       "      <th>comment_depth</th>\n",
       "      <th>votes_down</th>\n",
       "      <th>post_id</th>\n",
       "      <th>gilded</th>\n",
       "      <th>body</th>\n",
       "    </tr>\n",
       "  </thead>\n",
       "  <tbody>\n",
       "    <tr>\n",
       "      <th>0</th>\n",
       "      <td>t1_f507ph6</td>\n",
       "      <td>t2_4ofie5cy</td>\n",
       "      <td>AmItheAsshole</td>\n",
       "      <td>1571952022</td>\n",
       "      <td>0</td>\n",
       "      <td>0</td>\n",
       "      <td>[]</td>\n",
       "      <td>t3_dmcw3y</td>\n",
       "      <td>0</td>\n",
       "      <td>0</td>\n",
       "      <td>t3_dmcw3y</td>\n",
       "      <td>0</td>\n",
       "      <td>NTA - That's pure comedy right there.</td>\n",
       "    </tr>\n",
       "    <tr>\n",
       "      <th>1</th>\n",
       "      <td>t1_f43sa8o</td>\n",
       "      <td>t2_4uzl8ko</td>\n",
       "      <td>tifu</td>\n",
       "      <td>1571373440</td>\n",
       "      <td>1</td>\n",
       "      <td>1</td>\n",
       "      <td>[]</td>\n",
       "      <td>t3_dj95o8</td>\n",
       "      <td>0</td>\n",
       "      <td>0</td>\n",
       "      <td>t3_dj95o8</td>\n",
       "      <td>0</td>\n",
       "      <td>It’s cause it makes you looks Muslim bro</td>\n",
       "    </tr>\n",
       "    <tr>\n",
       "      <th>2</th>\n",
       "      <td>t1_f4aiyb5</td>\n",
       "      <td>t2_3sqf72hz</td>\n",
       "      <td>AmItheAsshole</td>\n",
       "      <td>1571524755</td>\n",
       "      <td>-6</td>\n",
       "      <td>-6</td>\n",
       "      <td>[]</td>\n",
       "      <td>t1_f49rjr5</td>\n",
       "      <td>6</td>\n",
       "      <td>0</td>\n",
       "      <td>t3_djvsug</td>\n",
       "      <td>0</td>\n",
       "      <td>Fair question, but no. If OP has spent time wi...</td>\n",
       "    </tr>\n",
       "    <tr>\n",
       "      <th>3</th>\n",
       "      <td>t1_evptaf7</td>\n",
       "      <td>t2_8z660</td>\n",
       "      <td>ProRevenge</td>\n",
       "      <td>1564708653</td>\n",
       "      <td>3</td>\n",
       "      <td>3</td>\n",
       "      <td>[]</td>\n",
       "      <td>t1_evppdql</td>\n",
       "      <td>4</td>\n",
       "      <td>0</td>\n",
       "      <td>t3_ckpob7</td>\n",
       "      <td>0</td>\n",
       "      <td>Maybe Russia.</td>\n",
       "    </tr>\n",
       "    <tr>\n",
       "      <th>4</th>\n",
       "      <td>t1_f4i41t7</td>\n",
       "      <td>t2_15zkq6</td>\n",
       "      <td>tifu</td>\n",
       "      <td>1571628631</td>\n",
       "      <td>1</td>\n",
       "      <td>1</td>\n",
       "      <td>[]</td>\n",
       "      <td>t3_dkm5gj</td>\n",
       "      <td>0</td>\n",
       "      <td>0</td>\n",
       "      <td>t3_dkm5gj</td>\n",
       "      <td>0</td>\n",
       "      <td>Well you're acting like the ball is in his cou...</td>\n",
       "    </tr>\n",
       "  </tbody>\n",
       "</table>\n",
       "</div>"
      ],
      "text/plain": [
       "   comment_id    post_user      subreddit   post_date  score  votes_up awards  \\\n",
       "0  t1_f507ph6  t2_4ofie5cy  AmItheAsshole  1571952022      0         0     []   \n",
       "1  t1_f43sa8o   t2_4uzl8ko           tifu  1571373440      1         1     []   \n",
       "2  t1_f4aiyb5  t2_3sqf72hz  AmItheAsshole  1571524755     -6        -6     []   \n",
       "3  t1_evptaf7     t2_8z660     ProRevenge  1564708653      3         3     []   \n",
       "4  t1_f4i41t7    t2_15zkq6           tifu  1571628631      1         1     []   \n",
       "\n",
       "  comment_parent  comment_depth  votes_down    post_id  gilded  \\\n",
       "0      t3_dmcw3y              0           0  t3_dmcw3y       0   \n",
       "1      t3_dj95o8              0           0  t3_dj95o8       0   \n",
       "2     t1_f49rjr5              6           0  t3_djvsug       0   \n",
       "3     t1_evppdql              4           0  t3_ckpob7       0   \n",
       "4      t3_dkm5gj              0           0  t3_dkm5gj       0   \n",
       "\n",
       "                                                body  \n",
       "0              NTA - That's pure comedy right there.  \n",
       "1           It’s cause it makes you looks Muslim bro  \n",
       "2  Fair question, but no. If OP has spent time wi...  \n",
       "3                                      Maybe Russia.  \n",
       "4  Well you're acting like the ball is in his cou...  "
      ]
     },
     "execution_count": 28,
     "metadata": {},
     "output_type": "execute_result"
    }
   ],
   "source": [
    "df = pd.DataFrame(posts)\n",
    "df.head()"
   ]
  },
  {
   "cell_type": "code",
   "execution_count": 29,
   "metadata": {},
   "outputs": [
    {
     "name": "stdout",
     "output_type": "stream",
     "text": [
      "<class 'pandas.core.frame.DataFrame'>\n",
      "RangeIndex: 535223 entries, 0 to 535222\n",
      "Data columns (total 13 columns):\n",
      "comment_id        535223 non-null object\n",
      "post_user         535223 non-null object\n",
      "subreddit         535223 non-null object\n",
      "post_date         535223 non-null int64\n",
      "score             535223 non-null int64\n",
      "votes_up          535223 non-null int64\n",
      "awards            535223 non-null object\n",
      "comment_parent    535223 non-null object\n",
      "comment_depth     535223 non-null int64\n",
      "votes_down        535223 non-null int64\n",
      "post_id           535223 non-null object\n",
      "gilded            535223 non-null int64\n",
      "body              535223 non-null object\n",
      "dtypes: int64(6), object(7)\n",
      "memory usage: 53.1+ MB\n"
     ]
    }
   ],
   "source": [
    "df.info()"
   ]
  },
  {
   "cell_type": "code",
   "execution_count": 30,
   "metadata": {},
   "outputs": [],
   "source": [
    "df.post_date = pd.to_datetime(df.post_date,unit='s')"
   ]
  },
  {
   "cell_type": "code",
   "execution_count": 31,
   "metadata": {},
   "outputs": [
    {
     "name": "stdout",
     "output_type": "stream",
     "text": [
      "<class 'pandas.core.frame.DataFrame'>\n",
      "RangeIndex: 535223 entries, 0 to 535222\n",
      "Data columns (total 13 columns):\n",
      "comment_id        535223 non-null object\n",
      "post_user         535223 non-null object\n",
      "subreddit         535223 non-null object\n",
      "post_date         535223 non-null datetime64[ns]\n",
      "score             535223 non-null int64\n",
      "votes_up          535223 non-null int64\n",
      "awards            535223 non-null object\n",
      "comment_parent    535223 non-null object\n",
      "comment_depth     535223 non-null int64\n",
      "votes_down        535223 non-null int64\n",
      "post_id           535223 non-null object\n",
      "gilded            535223 non-null int64\n",
      "body              535223 non-null object\n",
      "dtypes: datetime64[ns](1), int64(5), object(7)\n",
      "memory usage: 53.1+ MB\n"
     ]
    }
   ],
   "source": [
    "df.info()"
   ]
  },
  {
   "cell_type": "code",
   "execution_count": 32,
   "metadata": {},
   "outputs": [
    {
     "data": {
      "text/plain": [
       "0     534885\n",
       "1        296\n",
       "2         25\n",
       "3          6\n",
       "4          5\n",
       "5          3\n",
       "9          2\n",
       "17         1\n",
       "Name: gilded, dtype: int64"
      ]
     },
     "execution_count": 32,
     "metadata": {},
     "output_type": "execute_result"
    }
   ],
   "source": [
    "df.gilded.value_counts()"
   ]
  },
  {
   "cell_type": "markdown",
   "metadata": {},
   "source": [
    "This is just bad.  I am so in the minority that I do not know if I will find anything. I have a feeling this is in part due to my scraper and not giving posts enough time to gain things.  I am going to have to modify my scraper to only grab posts that are over 24 hours old and see if this helps.  Not sure it will but worth trying."
   ]
  },
  {
   "cell_type": "code",
   "execution_count": 34,
   "metadata": {},
   "outputs": [
    {
     "data": {
      "text/plain": [
       "AmItheAsshole    227762\n",
       "ProRevenge       114873\n",
       "tifu             113127\n",
       "pettyrevenge      42802\n",
       "confession        36659\n",
       "Name: subreddit, dtype: int64"
      ]
     },
     "execution_count": 34,
     "metadata": {},
     "output_type": "execute_result"
    }
   ],
   "source": [
    "df.subreddit.value_counts()"
   ]
  },
  {
   "cell_type": "code",
   "execution_count": 35,
   "metadata": {},
   "outputs": [],
   "source": [
    "df['is_gilded'] = df.gilded > 0"
   ]
  },
  {
   "cell_type": "code",
   "execution_count": 40,
   "metadata": {},
   "outputs": [
    {
     "name": "stdout",
     "output_type": "stream",
     "text": [
      "Percent Gilded: 0.06315124723713293\n"
     ]
    }
   ],
   "source": [
    "print('Percent Gilded: {}'.format((df.is_gilded.sum() / df.shape[0])*100))"
   ]
  },
  {
   "cell_type": "markdown",
   "metadata": {},
   "source": [
    "This is way to imbalanced for me to think I will get a working model.  I think this should be a little higher. not much but a little."
   ]
  },
  {
   "cell_type": "code",
   "execution_count": 37,
   "metadata": {},
   "outputs": [
    {
     "data": {
      "text/html": [
       "<div>\n",
       "<style scoped>\n",
       "    .dataframe tbody tr th:only-of-type {\n",
       "        vertical-align: middle;\n",
       "    }\n",
       "\n",
       "    .dataframe tbody tr th {\n",
       "        vertical-align: top;\n",
       "    }\n",
       "\n",
       "    .dataframe thead th {\n",
       "        text-align: right;\n",
       "    }\n",
       "</style>\n",
       "<table border=\"1\" class=\"dataframe\">\n",
       "  <thead>\n",
       "    <tr style=\"text-align: right;\">\n",
       "      <th>subreddit</th>\n",
       "      <th>AmItheAsshole</th>\n",
       "      <th>ProRevenge</th>\n",
       "      <th>confession</th>\n",
       "      <th>pettyrevenge</th>\n",
       "      <th>tifu</th>\n",
       "    </tr>\n",
       "    <tr>\n",
       "      <th>is_gilded</th>\n",
       "      <th></th>\n",
       "      <th></th>\n",
       "      <th></th>\n",
       "      <th></th>\n",
       "      <th></th>\n",
       "    </tr>\n",
       "  </thead>\n",
       "  <tbody>\n",
       "    <tr>\n",
       "      <th>False</th>\n",
       "      <td>227662</td>\n",
       "      <td>114795</td>\n",
       "      <td>36644</td>\n",
       "      <td>42774</td>\n",
       "      <td>113010</td>\n",
       "    </tr>\n",
       "    <tr>\n",
       "      <th>True</th>\n",
       "      <td>100</td>\n",
       "      <td>78</td>\n",
       "      <td>15</td>\n",
       "      <td>28</td>\n",
       "      <td>117</td>\n",
       "    </tr>\n",
       "  </tbody>\n",
       "</table>\n",
       "</div>"
      ],
      "text/plain": [
       "subreddit  AmItheAsshole  ProRevenge  confession  pettyrevenge    tifu\n",
       "is_gilded                                                             \n",
       "False             227662      114795       36644         42774  113010\n",
       "True                 100          78          15            28     117"
      ]
     },
     "execution_count": 37,
     "metadata": {},
     "output_type": "execute_result"
    }
   ],
   "source": [
    "df.pivot_table(index='is_gilded', columns='subreddit',aggfunc='count')['body']"
   ]
  },
  {
   "cell_type": "code",
   "execution_count": 38,
   "metadata": {},
   "outputs": [],
   "source": [
    "import pickle "
   ]
  },
  {
   "cell_type": "code",
   "execution_count": 39,
   "metadata": {},
   "outputs": [],
   "source": [
    "df.to_pickle('data/comments.pkl')"
   ]
  },
  {
   "cell_type": "markdown",
   "metadata": {},
   "source": [
    "Lets look at the Score as this may be better"
   ]
  },
  {
   "cell_type": "code",
   "execution_count": 86,
   "metadata": {},
   "outputs": [
    {
     "data": {
      "text/plain": [
       "Text(0.5, 1.0, 'Vote Score Hist')"
      ]
     },
     "execution_count": 86,
     "metadata": {},
     "output_type": "execute_result"
    },
    {
     "data": {
      "image/png": "[encoded data removed]",
      "text/plain": [
       "<Figure size 432x288 with 1 Axes>"
      ]
     },
     "metadata": {
      "needs_background": "light"
     },
     "output_type": "display_data"
    }
   ],
   "source": [
    "df.score.hist(bins=100, density=True)\n",
    "plt.title('Vote Score Hist')"
   ]
  },
  {
   "cell_type": "markdown",
   "metadata": {},
   "source": [
    "Well that is useless.  What does it look like if I get rid of the first ones that are washing out everything."
   ]
  },
  {
   "cell_type": "code",
   "execution_count": 85,
   "metadata": {},
   "outputs": [
    {
     "data": {
      "text/plain": [
       "Text(0.5, 1.0, 'Vote Score > 1000 Hist')"
      ]
     },
     "execution_count": 85,
     "metadata": {},
     "output_type": "execute_result"
    },
    {
     "data": {
      "image/png": "[encoded data removed]",
      "text/plain": [
       "<Figure size 432x288 with 1 Axes>"
      ]
     },
     "metadata": {
      "needs_background": "light"
     },
     "output_type": "display_data"
    }
   ],
   "source": [
    "df[df.score>1000]['score'].hist(bins=100)\n",
    "plt.title('Vote Score > 1000 Hist')"
   ]
  },
  {
   "cell_type": "code",
   "execution_count": 81,
   "metadata": {},
   "outputs": [
    {
     "data": {
      "text/plain": [
       "0.052350141903468275"
      ]
     },
     "execution_count": 81,
     "metadata": {},
     "output_type": "execute_result"
    }
   ],
   "source": [
    "(df.score > 50).sum()/df.shape[0]"
   ]
  },
  {
   "cell_type": "code",
   "execution_count": null,
   "metadata": {},
   "outputs": [],
   "source": []
  },
  {
   "cell_type": "code",
   "execution_count": 84,
   "metadata": {},
   "outputs": [
    {
     "data": {
      "text/plain": [
       "Text(0.5, 1.0, 'Vote Score < 100 Hist')"
      ]
     },
     "execution_count": 84,
     "metadata": {},
     "output_type": "execute_result"
    },
    {
     "data": {
      "image/png": "[encoded data removed]",
      "text/plain": [
       "<Figure size 432x288 with 1 Axes>"
      ]
     },
     "metadata": {
      "needs_background": "light"
     },
     "output_type": "display_data"
    }
   ],
   "source": [
    "df[df.score < 100]['score'].hist(bins=100)\n",
    "plt.title('Vote Score < 100 Hist')"
   ]
  },
  {
   "cell_type": "code",
   "execution_count": 82,
   "metadata": {},
   "outputs": [
    {
     "data": {
      "text/plain": [
       "0.05516765908789421"
      ]
     },
     "execution_count": 82,
     "metadata": {},
     "output_type": "execute_result"
    }
   ],
   "source": [
    "(df.score<-1).sum()/df.shape[0]"
   ]
  },
  {
   "cell_type": "markdown",
   "metadata": {},
   "source": [
    "This is interesting to me Over 7% of the comments have negative votes which makes me think that it will be worth looking into. May be fun to see what causes something to be negative.  Maybe could do some classification to see what is the underlying things that trigger negative sentiment."
   ]
  },
  {
   "cell_type": "code",
   "execution_count": 68,
   "metadata": {},
   "outputs": [
    {
     "data": {
      "text/plain": [
       "0.029129914073199394"
      ]
     },
     "execution_count": 68,
     "metadata": {},
     "output_type": "execute_result"
    }
   ],
   "source": [
    "(df.score < -5).sum()/df.shape[0]"
   ]
  },
  {
   "cell_type": "code",
   "execution_count": 72,
   "metadata": {},
   "outputs": [
    {
     "data": {
      "text/plain": [
       "38976"
      ]
     },
     "execution_count": 72,
     "metadata": {},
     "output_type": "execute_result"
    }
   ],
   "source": [
    "(df.score < -0).sum()"
   ]
  },
  {
   "cell_type": "markdown",
   "metadata": {},
   "source": [
    "To start I am going to look at data with a score of over 50 vs data with a score of less then -1.  I am choosing less then -1 as I dont want to include things that may have been a accident down vote.  (See Notebook)"
   ]
  },
  {
   "cell_type": "code",
   "execution_count": null,
   "metadata": {},
   "outputs": [],
   "source": [
    "df."
   ]
  },
  {
   "cell_type": "code",
   "execution_count": null,
   "metadata": {},
   "outputs": [],
   "source": []
  },
  {
   "cell_type": "code",
   "execution_count": null,
   "metadata": {},
   "outputs": [],
   "source": []
  }
 ],
 "metadata": {
  "kernelspec": {
   "display_name": "Python 3",
   "language": "python",
   "name": "python3"
  },
  "language_info": {
   "codemirror_mode": {
    "name": "ipython",
    "version": 3
   },
   "file_extension": ".py",
   "mimetype": "text/x-python",
   "name": "python",
   "nbconvert_exporter": "python",
   "pygments_lexer": "ipython3",
   "version": "3.7.4"
  }
 },
 "nbformat": 4,
 "nbformat_minor": 2
}
