{
 "cells": [
  {
   "cell_type": "code",
   "execution_count": 1,
   "metadata": {},
   "outputs": [],
   "source": [
    "import pandas as pd\n",
    "import numpy as np\n",
    "import matplotlib.pyplot as plt\n",
    "%matplotlib inline"
   ]
  },
  {
   "cell_type": "markdown",
   "metadata": {},
   "source": [
    "Taking a sub section of the data and doing some work on just 'good and bad' comments.  Good being anything with a score of more then 50 and bad being anything with a score of less then -1 "
   ]
  },
  {
   "cell_type": "code",
   "execution_count": 30,
   "metadata": {},
   "outputs": [],
   "source": [
    "# NEED TO MAKE THIS A FUNCTION. SOMTHING TO QUERY DATA THAT I WANT.\n",
    "\n",
    "import json\n",
    "import decimal\n",
    "import boto3\n",
    "from boto3.dynamodb.conditions import Key, Attr\n",
    "\n",
    "dynamodb = boto3.resource('dynamodb')\n",
    "comment_table = dynamodb.Table('comments')\n",
    "\n",
    "# Helper class to convert a DynamoDB item to JSON.\n",
    "class DecimalEncoder(json.JSONEncoder):\n",
    "    def default(self, o):\n",
    "        if isinstance(o, decimal.Decimal):\n",
    "            if o % 1 > 0:\n",
    "                return float(o)\n",
    "            else:\n",
    "                return int(o)\n",
    "        return super(DecimalEncoder, self).default(o)\n",
    "\n",
    "\n",
    "\n",
    "posts = []\n",
    "    \n",
    "response = comment_table.scan(\n",
    "    FilterExpression=Attr('score').lt(-1) | Attr('score').gt(50)\n",
    "    )\n",
    "\n",
    "for i in response['Items']:\n",
    "    posts.append(json.loads(json.dumps(i, cls=DecimalEncoder)))\n",
    "\n",
    "while 'LastEvaluatedKey' in response:\n",
    "    response = comment_table.scan(\n",
    "        FilterExpression=Attr('score').lt(-1) | Attr('score').gt(50),\n",
    "        ExclusiveStartKey=response['LastEvaluatedKey']\n",
    "        )\n",
    "\n",
    "    for i in response['Items']:\n",
    "        posts.append(json.loads(json.dumps(i, cls=DecimalEncoder)))"
   ]
  },
  {
   "cell_type": "code",
   "execution_count": null,
   "metadata": {},
   "outputs": [],
   "source": []
  },
  {
   "cell_type": "code",
   "execution_count": 2,
   "metadata": {},
   "outputs": [],
   "source": [
    "# df = pd.read_pickle('data/comments.pkl')\n",
    "df = pd.DataFrame(posts)"
   ]
  },
  {
   "cell_type": "code",
   "execution_count": 3,
   "metadata": {},
   "outputs": [
    {
     "data": {
      "text/html": [
       "<div>\n",
       "<style scoped>\n",
       "    .dataframe tbody tr th:only-of-type {\n",
       "        vertical-align: middle;\n",
       "    }\n",
       "\n",
       "    .dataframe tbody tr th {\n",
       "        vertical-align: top;\n",
       "    }\n",
       "\n",
       "    .dataframe thead th {\n",
       "        text-align: right;\n",
       "    }\n",
       "</style>\n",
       "<table border=\"1\" class=\"dataframe\">\n",
       "  <thead>\n",
       "    <tr style=\"text-align: right;\">\n",
       "      <th></th>\n",
       "      <th>comment_id</th>\n",
       "      <th>post_user</th>\n",
       "      <th>subreddit</th>\n",
       "      <th>post_date</th>\n",
       "      <th>score</th>\n",
       "      <th>votes_up</th>\n",
       "      <th>awards</th>\n",
       "      <th>comment_parent</th>\n",
       "      <th>comment_depth</th>\n",
       "      <th>votes_down</th>\n",
       "      <th>post_id</th>\n",
       "      <th>gilded</th>\n",
       "      <th>body</th>\n",
       "      <th>is_gilded</th>\n",
       "    </tr>\n",
       "  </thead>\n",
       "  <tbody>\n",
       "    <tr>\n",
       "      <th>0</th>\n",
       "      <td>t1_f507ph6</td>\n",
       "      <td>t2_4ofie5cy</td>\n",
       "      <td>AmItheAsshole</td>\n",
       "      <td>2019-10-24 21:20:22</td>\n",
       "      <td>0</td>\n",
       "      <td>0</td>\n",
       "      <td>[]</td>\n",
       "      <td>t3_dmcw3y</td>\n",
       "      <td>0</td>\n",
       "      <td>0</td>\n",
       "      <td>t3_dmcw3y</td>\n",
       "      <td>0</td>\n",
       "      <td>NTA - That's pure comedy right there.</td>\n",
       "      <td>False</td>\n",
       "    </tr>\n",
       "    <tr>\n",
       "      <th>1</th>\n",
       "      <td>t1_f43sa8o</td>\n",
       "      <td>t2_4uzl8ko</td>\n",
       "      <td>tifu</td>\n",
       "      <td>2019-10-18 04:37:20</td>\n",
       "      <td>1</td>\n",
       "      <td>1</td>\n",
       "      <td>[]</td>\n",
       "      <td>t3_dj95o8</td>\n",
       "      <td>0</td>\n",
       "      <td>0</td>\n",
       "      <td>t3_dj95o8</td>\n",
       "      <td>0</td>\n",
       "      <td>It’s cause it makes you looks Muslim bro</td>\n",
       "      <td>False</td>\n",
       "    </tr>\n",
       "    <tr>\n",
       "      <th>2</th>\n",
       "      <td>t1_f4aiyb5</td>\n",
       "      <td>t2_3sqf72hz</td>\n",
       "      <td>AmItheAsshole</td>\n",
       "      <td>2019-10-19 22:39:15</td>\n",
       "      <td>-6</td>\n",
       "      <td>-6</td>\n",
       "      <td>[]</td>\n",
       "      <td>t1_f49rjr5</td>\n",
       "      <td>6</td>\n",
       "      <td>0</td>\n",
       "      <td>t3_djvsug</td>\n",
       "      <td>0</td>\n",
       "      <td>Fair question, but no. If OP has spent time wi...</td>\n",
       "      <td>False</td>\n",
       "    </tr>\n",
       "    <tr>\n",
       "      <th>3</th>\n",
       "      <td>t1_evptaf7</td>\n",
       "      <td>t2_8z660</td>\n",
       "      <td>ProRevenge</td>\n",
       "      <td>2019-08-02 01:17:33</td>\n",
       "      <td>3</td>\n",
       "      <td>3</td>\n",
       "      <td>[]</td>\n",
       "      <td>t1_evppdql</td>\n",
       "      <td>4</td>\n",
       "      <td>0</td>\n",
       "      <td>t3_ckpob7</td>\n",
       "      <td>0</td>\n",
       "      <td>Maybe Russia.</td>\n",
       "      <td>False</td>\n",
       "    </tr>\n",
       "    <tr>\n",
       "      <th>4</th>\n",
       "      <td>t1_f4i41t7</td>\n",
       "      <td>t2_15zkq6</td>\n",
       "      <td>tifu</td>\n",
       "      <td>2019-10-21 03:30:31</td>\n",
       "      <td>1</td>\n",
       "      <td>1</td>\n",
       "      <td>[]</td>\n",
       "      <td>t3_dkm5gj</td>\n",
       "      <td>0</td>\n",
       "      <td>0</td>\n",
       "      <td>t3_dkm5gj</td>\n",
       "      <td>0</td>\n",
       "      <td>Well you're acting like the ball is in his cou...</td>\n",
       "      <td>False</td>\n",
       "    </tr>\n",
       "  </tbody>\n",
       "</table>\n",
       "</div>"
      ],
      "text/plain": [
       "   comment_id    post_user      subreddit           post_date  score  \\\n",
       "0  t1_f507ph6  t2_4ofie5cy  AmItheAsshole 2019-10-24 21:20:22      0   \n",
       "1  t1_f43sa8o   t2_4uzl8ko           tifu 2019-10-18 04:37:20      1   \n",
       "2  t1_f4aiyb5  t2_3sqf72hz  AmItheAsshole 2019-10-19 22:39:15     -6   \n",
       "3  t1_evptaf7     t2_8z660     ProRevenge 2019-08-02 01:17:33      3   \n",
       "4  t1_f4i41t7    t2_15zkq6           tifu 2019-10-21 03:30:31      1   \n",
       "\n",
       "   votes_up awards comment_parent  comment_depth  votes_down    post_id  \\\n",
       "0         0     []      t3_dmcw3y              0           0  t3_dmcw3y   \n",
       "1         1     []      t3_dj95o8              0           0  t3_dj95o8   \n",
       "2        -6     []     t1_f49rjr5              6           0  t3_djvsug   \n",
       "3         3     []     t1_evppdql              4           0  t3_ckpob7   \n",
       "4         1     []      t3_dkm5gj              0           0  t3_dkm5gj   \n",
       "\n",
       "   gilded                                               body  is_gilded  \n",
       "0       0              NTA - That's pure comedy right there.      False  \n",
       "1       0           It’s cause it makes you looks Muslim bro      False  \n",
       "2       0  Fair question, but no. If OP has spent time wi...      False  \n",
       "3       0                                      Maybe Russia.      False  \n",
       "4       0  Well you're acting like the ball is in his cou...      False  "
      ]
     },
     "execution_count": 3,
     "metadata": {},
     "output_type": "execute_result"
    }
   ],
   "source": [
    "df.head()"
   ]
  },
  {
   "cell_type": "code",
   "execution_count": 4,
   "metadata": {},
   "outputs": [
    {
     "name": "stdout",
     "output_type": "stream",
     "text": [
      "<class 'pandas.core.frame.DataFrame'>\n",
      "RangeIndex: 535223 entries, 0 to 535222\n",
      "Data columns (total 14 columns):\n",
      "comment_id        535223 non-null object\n",
      "post_user         535223 non-null object\n",
      "subreddit         535223 non-null object\n",
      "post_date         535223 non-null datetime64[ns]\n",
      "score             535223 non-null int64\n",
      "votes_up          535223 non-null int64\n",
      "awards            535223 non-null object\n",
      "comment_parent    535223 non-null object\n",
      "comment_depth     535223 non-null int64\n",
      "votes_down        535223 non-null int64\n",
      "post_id           535223 non-null object\n",
      "gilded            535223 non-null int64\n",
      "body              535223 non-null object\n",
      "is_gilded         535223 non-null bool\n",
      "dtypes: bool(1), datetime64[ns](1), int64(5), object(7)\n",
      "memory usage: 53.6+ MB\n"
     ]
    }
   ],
   "source": [
    "df.info()"
   ]
  },
  {
   "cell_type": "code",
   "execution_count": 6,
   "metadata": {},
   "outputs": [],
   "source": [
    "# lets filter down to what I am looking at\n",
    "df = df.query('score > 50 or score < -1')"
   ]
  },
  {
   "cell_type": "code",
   "execution_count": 7,
   "metadata": {},
   "outputs": [
    {
     "name": "stdout",
     "output_type": "stream",
     "text": [
      "<class 'pandas.core.frame.DataFrame'>\n",
      "Int64Index: 57546 entries, 2 to 535219\n",
      "Data columns (total 14 columns):\n",
      "comment_id        57546 non-null object\n",
      "post_user         57546 non-null object\n",
      "subreddit         57546 non-null object\n",
      "post_date         57546 non-null datetime64[ns]\n",
      "score             57546 non-null int64\n",
      "votes_up          57546 non-null int64\n",
      "awards            57546 non-null object\n",
      "comment_parent    57546 non-null object\n",
      "comment_depth     57546 non-null int64\n",
      "votes_down        57546 non-null int64\n",
      "post_id           57546 non-null object\n",
      "gilded            57546 non-null int64\n",
      "body              57546 non-null object\n",
      "is_gilded         57546 non-null bool\n",
      "dtypes: bool(1), datetime64[ns](1), int64(5), object(7)\n",
      "memory usage: 6.2+ MB\n"
     ]
    }
   ],
   "source": [
    "df.info()"
   ]
  },
  {
   "cell_type": "markdown",
   "metadata": {},
   "source": [
    "While that really hurt our dataset I am interested to see what things look like.  \n",
    "\n",
    "Time to get some info about our data. "
   ]
  },
  {
   "cell_type": "code",
   "execution_count": 68,
   "metadata": {},
   "outputs": [],
   "source": [
    "df['word_count'] = df.body.apply(lambda x: len(x.split(' ')))"
   ]
  },
  {
   "cell_type": "code",
   "execution_count": 69,
   "metadata": {},
   "outputs": [
    {
     "data": {
      "text/plain": [
       "<matplotlib.axes._subplots.AxesSubplot at 0x13edf2110>"
      ]
     },
     "execution_count": 69,
     "metadata": {},
     "output_type": "execute_result"
    },
    {
     "data": {
      "image/png": "[encoded data removed]",
      "text/plain": [
       "<Figure size 432x288 with 1 Axes>"
      ]
     },
     "metadata": {
      "needs_background": "light"
     },
     "output_type": "display_data"
    }
   ],
   "source": [
    "df.word_count.hist(bins=100)"
   ]
  },
  {
   "cell_type": "code",
   "execution_count": 49,
   "metadata": {},
   "outputs": [
    {
     "data": {
      "text/plain": [
       "116"
      ]
     },
     "execution_count": 49,
     "metadata": {},
     "output_type": "execute_result"
    }
   ],
   "source": [
    "(word_count > 400).sum()"
   ]
  },
  {
   "cell_type": "code",
   "execution_count": null,
   "metadata": {},
   "outputs": [],
   "source": [
    "ok lets make this a little better "
   ]
  },
  {
   "cell_type": "code",
   "execution_count": 70,
   "metadata": {},
   "outputs": [
    {
     "data": {
      "text/plain": [
       "<matplotlib.axes._subplots.AxesSubplot at 0x13f04fad0>"
      ]
     },
     "execution_count": 70,
     "metadata": {},
     "output_type": "execute_result"
    },
    {
     "data": {
      "image/png": "[encoded data removed]",
      "text/plain": [
       "<Figure size 432x288 with 1 Axes>"
      ]
     },
     "metadata": {
      "needs_background": "light"
     },
     "output_type": "display_data"
    }
   ],
   "source": [
    "df.word_count[word_count < 400].hist(bins=100)"
   ]
  },
  {
   "cell_type": "code",
   "execution_count": 71,
   "metadata": {},
   "outputs": [
    {
     "data": {
      "text/plain": [
       "<matplotlib.axes._subplots.AxesSubplot at 0x13ee451d0>"
      ]
     },
     "execution_count": 71,
     "metadata": {},
     "output_type": "execute_result"
    },
    {
     "data": {
      "image/png": "[encoded data removed]",
      "text/plain": [
       "<Figure size 432x288 with 1 Axes>"
      ]
     },
     "metadata": {
      "needs_background": "light"
     },
     "output_type": "display_data"
    }
   ],
   "source": [
    "df.word_count[word_count < 100].hist(bins=100)"
   ]
  },
  {
   "cell_type": "markdown",
   "metadata": {},
   "source": [
    "Looking at this it seems that there are a lot of posts with only a few words.  There seem to be a lot of one word things. This is not necessarly my goal so I need to investigate"
   ]
  },
  {
   "cell_type": "code",
   "execution_count": 72,
   "metadata": {},
   "outputs": [
    {
     "data": {
      "text/plain": [
       "[deleted]                      1543\n",
       "[removed]                       849\n",
       "YTA                              70\n",
       "NTA                              44\n",
       "ESH                              35\n",
       "                               ... \n",
       "WORLDSTARRRRRRR                   1\n",
       "r/TooManyFuckingRevengeSubs       1\n",
       "m'FWILLA                          1\n",
       "R/idontcare                       1\n",
       "Downvote.                         1\n",
       "Name: body, Length: 725, dtype: int64"
      ]
     },
     "execution_count": 72,
     "metadata": {},
     "output_type": "execute_result"
    }
   ],
   "source": [
    "df[df.word_count <= 1]['body'].value_counts()"
   ]
  },
  {
   "cell_type": "markdown",
   "metadata": {},
   "source": [
    "It looks like I should remove these as I am more interested in what can be written and what I see here is removed comments and links to other things.  Below we can see 2 word outcomes Im just going to include things with 4 or more words."
   ]
  },
  {
   "cell_type": "code",
   "execution_count": 73,
   "metadata": {},
   "outputs": [
    {
     "data": {
      "text/plain": [
       "Holy shit                  12\n",
       "Thank you!                  6\n",
       "Thank you                   6\n",
       "Fair enough                 4\n",
       "no u                        3\n",
       "                           ..\n",
       "Well played                 1\n",
       "Soviet Union*               1\n",
       "\"Bye, bitch.\"               1\n",
       "threesome? ¯\\\\\\_(ツ)\\_/¯     1\n",
       "It's irrelevant             1\n",
       "Name: body, Length: 775, dtype: int64"
      ]
     },
     "execution_count": 73,
     "metadata": {},
     "output_type": "execute_result"
    }
   ],
   "source": [
    "df[df.word_count == 2]['body'].value_counts()"
   ]
  },
  {
   "cell_type": "code",
   "execution_count": 74,
   "metadata": {},
   "outputs": [],
   "source": [
    "filter_df = df[df.word_count >= 4]"
   ]
  },
  {
   "cell_type": "code",
   "execution_count": 76,
   "metadata": {},
   "outputs": [
    {
     "name": "stderr",
     "output_type": "stream",
     "text": [
      "/Users/danielrupp/anaconda3/lib/python3.7/site-packages/ipykernel_launcher.py:1: SettingWithCopyWarning: \n",
      "A value is trying to be set on a copy of a slice from a DataFrame.\n",
      "Try using .loc[row_indexer,col_indexer] = value instead\n",
      "\n",
      "See the caveats in the documentation: http://pandas.pydata.org/pandas-docs/stable/user_guide/indexing.html#returning-a-view-versus-a-copy\n",
      "  \"\"\"Entry point for launching an IPython kernel.\n"
     ]
    }
   ],
   "source": [
    "filter_df['is_neg'] = filter_df.score < 0"
   ]
  },
  {
   "cell_type": "code",
   "execution_count": 77,
   "metadata": {},
   "outputs": [
    {
     "data": {
      "text/plain": [
       "0.4446182184687033"
      ]
     },
     "execution_count": 77,
     "metadata": {},
     "output_type": "execute_result"
    }
   ],
   "source": [
    "filter_df.is_neg.sum()/df.shape[0]"
   ]
  },
  {
   "cell_type": "markdown",
   "metadata": {},
   "source": [
    "This is a rather balanced data set.   \n",
    "\n",
    "Which is nice.  For a first pass on a model I am going to keep all stop words.  I am going to eventlually want to try some lemitizing and a had created stop word list as things like `I` or `am` may be important."
   ]
  },
  {
   "cell_type": "markdown",
   "metadata": {},
   "source": [
    "I want to see what things look like given the 2 classes and I am going to limit to under 200 words for several reasons"
   ]
  },
  {
   "cell_type": "code",
   "execution_count": 85,
   "metadata": {},
   "outputs": [
    {
     "data": {
      "text/plain": [
       "<matplotlib.axes._subplots.AxesSubplot at 0x1302a7610>"
      ]
     },
     "execution_count": 85,
     "metadata": {},
     "output_type": "execute_result"
    },
    {
     "data": {
      "image/png": "[encoded data removed]",
      "text/plain": [
       "<Figure size 432x288 with 1 Axes>"
      ]
     },
     "metadata": {
      "needs_background": "light"
     },
     "output_type": "display_data"
    }
   ],
   "source": [
    "bin_sizes = np.arange(0,200,5)\n",
    "\n",
    "fig, ax = plt.subplots()\n",
    "\n",
    "filter_df[(filter_df.is_neg == 0) & (filter_df.word_count < 201)].word_count.hist(\n",
    "    bins=bin_sizes, density=True, ax=ax)\n",
    "filter_df[(filter_df.is_neg == 1) & (filter_df.word_count < 201)].word_count.hist(\n",
    "    bins=bin_sizes, density=True, alpha=.5, ax=ax)\n",
    "\n",
    "\n"
   ]
  },
  {
   "cell_type": "markdown",
   "metadata": {},
   "source": [
    "Well they look to be the same so word count does not seem to be useful on telling how people react to a given post. "
   ]
  },
  {
   "cell_type": "code",
   "execution_count": 86,
   "metadata": {},
   "outputs": [],
   "source": [
    "from sklearn.model_selection import train_test_split\n",
    "from sklearn.feature_extraction.text import TfidfVectorizer, CountVectorizer\n",
    "from sklearn.ensemble import RandomForestClassifier"
   ]
  },
  {
   "cell_type": "code",
   "execution_count": 87,
   "metadata": {},
   "outputs": [],
   "source": [
    "y = filter_df.is_neg\n",
    "X = filter_df.body"
   ]
  },
  {
   "cell_type": "code",
   "execution_count": 88,
   "metadata": {},
   "outputs": [],
   "source": [
    "X_train, X_test, y_train, y_test = train_test_split(X, y, test_size=0.33)"
   ]
  },
  {
   "cell_type": "code",
   "execution_count": 109,
   "metadata": {},
   "outputs": [],
   "source": [
    "tfidf = TfidfVectorizer()\n",
    "vect_train_X = tfidf.fit_transform(X_train)"
   ]
  },
  {
   "cell_type": "code",
   "execution_count": 110,
   "metadata": {},
   "outputs": [
    {
     "data": {
      "text/plain": [
       "(34951, 30553)"
      ]
     },
     "execution_count": 110,
     "metadata": {},
     "output_type": "execute_result"
    }
   ],
   "source": [
    "vect_train_X.shape"
   ]
  },
  {
   "cell_type": "code",
   "execution_count": 111,
   "metadata": {},
   "outputs": [],
   "source": [
    "vect_test_X = tfidf.fit_transform(X_train)"
   ]
  },
  {
   "cell_type": "code",
   "execution_count": 201,
   "metadata": {},
   "outputs": [],
   "source": [
    "stop_words = []\n",
    "tfidf = TfidfVectorizer(min_df=.001, stop_words='english')\n",
    "vect_train_X = tfidf.fit_transform(X_train)"
   ]
  },
  {
   "cell_type": "code",
   "execution_count": 202,
   "metadata": {},
   "outputs": [
    {
     "data": {
      "text/plain": [
       "(34951, 2463)"
      ]
     },
     "execution_count": 202,
     "metadata": {},
     "output_type": "execute_result"
    }
   ],
   "source": [
    "vect_train_X.shape"
   ]
  },
  {
   "cell_type": "code",
   "execution_count": 203,
   "metadata": {},
   "outputs": [],
   "source": [
    "vect_test_X = tfidf.transform(X_test)"
   ]
  },
  {
   "cell_type": "code",
   "execution_count": 204,
   "metadata": {},
   "outputs": [
    {
     "data": {
      "text/plain": [
       "0.60432156133829"
      ]
     },
     "execution_count": 204,
     "metadata": {},
     "output_type": "execute_result"
    }
   ],
   "source": [
    "rf_model = RandomForestClassifier(n_estimators=200, n_jobs=-1)\n",
    "rf_model.fit(vect_train_X, y_train)\n",
    "rf_model.score(vect_test_X, y_test)"
   ]
  },
  {
   "cell_type": "code",
   "execution_count": null,
   "metadata": {},
   "outputs": [],
   "source": []
  },
  {
   "cell_type": "code",
   "execution_count": null,
   "metadata": {},
   "outputs": [],
   "source": []
  },
  {
   "cell_type": "code",
   "execution_count": null,
   "metadata": {},
   "outputs": [],
   "source": []
  },
  {
   "cell_type": "code",
   "execution_count": 127,
   "metadata": {},
   "outputs": [],
   "source": [
    "cv = CountVectorizer(min_df=.01)\n",
    "cv_X = cv.fit_transform(filter_df.body)"
   ]
  },
  {
   "cell_type": "code",
   "execution_count": 128,
   "metadata": {},
   "outputs": [
    {
     "data": {
      "text/plain": [
       "(52167, 437)"
      ]
     },
     "execution_count": 128,
     "metadata": {},
     "output_type": "execute_result"
    }
   ],
   "source": [
    "cv_X.shape"
   ]
  },
  {
   "cell_type": "code",
   "execution_count": 174,
   "metadata": {},
   "outputs": [],
   "source": [
    "word_occur = cv_X.todense().sum(axis=0)"
   ]
  },
  {
   "cell_type": "code",
   "execution_count": 182,
   "metadata": {},
   "outputs": [],
   "source": [
    "voc = cv.vocabulary_"
   ]
  },
  {
   "cell_type": "code",
   "execution_count": 185,
   "metadata": {},
   "outputs": [],
   "source": [
    "word_vocab = {v:k for k,v in voc.items()}"
   ]
  },
  {
   "cell_type": "code",
   "execution_count": 200,
   "metadata": {},
   "outputs": [
    {
     "name": "stdout",
     "output_type": "stream",
     "text": [
      "the\n",
      "to\n",
      "you\n",
      "and\n",
      "it\n",
      "that\n",
      "of\n",
      "is\n",
      "in\n",
      "for\n",
      "your\n",
      "not\n",
      "this\n",
      "she\n",
      "but\n",
      "he\n",
      "have\n",
      "was\n",
      "if\n",
      "be\n",
      "her\n",
      "with\n",
      "they\n",
      "on\n",
      "my\n",
      "are\n",
      "just\n",
      "like\n",
      "so\n",
      "as\n",
      "or\n",
      "can\n",
      "at\n",
      "don\n",
      "would\n",
      "what\n",
      "about\n",
      "an\n",
      "people\n",
      "do\n",
      "up\n",
      "me\n",
      "re\n",
      "out\n",
      "get\n",
      "his\n",
      "because\n"
     ]
    }
   ],
   "source": [
    "stop_words = []\n",
    "for i in [39, 166, 134, 273, 292, 227, 386,  87, 280,  18,   3, 407, 426,\n",
    "          91,  33,  59, 269,  27, 327, 206, 189,  24, 240, 264, 360, 418,\n",
    "         162,  38, 176, 398, 157, 159,  53, 316, 365, 253, 434, 121, 179,\n",
    "         182, 258, 353, 185,  19, 433, 372, 354][::-1]:\n",
    "    print(word_vocab[i])"
   ]
  },
  {
   "cell_type": "code",
   "execution_count": 199,
   "metadata": {},
   "outputs": [],
   "source": [
    "\n",
    "stop_words = ['the','to','you','and','it','that','of','is','in','for','not','this','but']"
   ]
  },
  {
   "cell_type": "code",
   "execution_count": 181,
   "metadata": {},
   "outputs": [
    {
     "data": {
      "text/plain": [
       "matrix([[ 69,  68,  12, 425, 379,   9, 133, 139, 291, 151, 392, 282, 177,\n",
       "          71, 313,   1, 377, 337,  76, 140,  42, 122, 252, 160, 196,  13,\n",
       "         314,  81, 342, 318, 241,  47, 352, 326, 299, 156, 364, 262, 402,\n",
       "         387, 198, 378, 127,  58, 172, 303,  77, 173, 391, 308, 199,   0,\n",
       "         153, 131,  75, 234, 322,  54, 215, 132, 250, 207, 311,  72, 336,\n",
       "         114, 321, 188, 231, 143,  96, 130, 408, 331,  51, 178, 229, 284,\n",
       "          73, 194, 350, 373, 271, 105, 147, 257,   6, 384, 123, 278, 111,\n",
       "         334, 403,   4, 175, 224,  66,  52, 315, 118, 152, 164,  62, 203,\n",
       "         261,  93, 197, 371, 149, 424, 297, 332,  44,  57, 135,  97, 184,\n",
       "          65, 348, 376, 302, 169,  63, 202,  31, 168,   2, 346, 260,  82,\n",
       "         343, 422, 243, 137, 104, 385, 248, 421, 397, 237, 249, 146,  30,\n",
       "         110, 210, 324, 101,  70, 414, 180, 320, 390,  10, 112,  83, 208,\n",
       "          25,  95, 333,  14, 201, 289, 341, 116, 420,  79, 405, 242, 238,\n",
       "         396, 265, 200,  49, 174, 300, 347, 294, 312,  35,  48,  20,  29,\n",
       "          99,  22, 339,  56, 369,  86, 380,  98, 435, 212,  78, 283, 154,\n",
       "         323, 296, 217,  34, 247, 190, 225,   8, 245, 368,  45, 214, 293,\n",
       "          92, 117, 432, 298,  61, 277, 279, 129, 107, 223, 272,  50, 103,\n",
       "          28, 382, 221, 388, 213, 170, 254, 220, 193, 286,  60,  16, 186,\n",
       "         287, 120, 399, 232, 167, 222, 374,  17, 389, 309,  67, 359, 100,\n",
       "         419, 161, 102, 108, 187, 383, 285, 427, 325, 290, 381, 430, 128,\n",
       "         230, 209,  26, 158, 263, 429, 416, 125, 124, 136, 233, 366,  94,\n",
       "         335, 428, 412,  64, 191, 138, 367, 307, 113, 431, 216, 211, 276,\n",
       "         228, 340, 148, 349,  46,  88,  37,  23, 109, 236,   5,  41,  80,\n",
       "         204,  90, 226, 119, 411, 305, 317, 218, 344, 192, 288, 275, 410,\n",
       "           7, 183, 205, 115, 394, 181, 362, 423, 259,  36, 404,  32,  21,\n",
       "         310, 345, 239, 281, 145, 244, 246, 163, 255, 361, 375, 301, 338,\n",
       "         274, 304, 351, 267, 306, 144,  40, 142, 393, 417,  89, 270, 330,\n",
       "         141, 436,  15, 400, 256, 395, 415,  84,  74,  55, 155,  85, 295,\n",
       "         219, 406, 328, 329, 235, 357, 319, 106,  43, 370, 401, 268, 126,\n",
       "         195, 150, 363, 413, 171, 355, 358, 266, 409, 251, 165, 356,  11,\n",
       "          39, 166, 134, 273, 292, 227, 386,  87, 280,  18,   3, 407, 426,\n",
       "          91,  33,  59, 269,  27, 327, 206, 189,  24, 240, 264, 360, 418,\n",
       "         162,  38, 176, 398, 157, 159,  53, 316, 365, 253, 434, 121, 179,\n",
       "         182, 258, 353, 185,  19, 433, 372, 354]])"
      ]
     },
     "execution_count": 181,
     "metadata": {},
     "output_type": "execute_result"
    }
   ],
   "source": [
    "word_occur.argsort()"
   ]
  },
  {
   "cell_type": "code",
   "execution_count": 176,
   "metadata": {},
   "outputs": [
    {
     "data": {
      "text/plain": [
       "numpy.matrix"
      ]
     },
     "execution_count": 176,
     "metadata": {},
     "output_type": "execute_result"
    }
   ],
   "source": [
    "type(word_occur)"
   ]
  },
  {
   "cell_type": "code",
   "execution_count": 154,
   "metadata": {},
   "outputs": [],
   "source": [
    "a = word_occur[0,:]"
   ]
  },
  {
   "cell_type": "code",
   "execution_count": 139,
   "metadata": {},
   "outputs": [
    {
     "data": {
      "text/plain": [
       "matrix([[71638]], dtype=int64)"
      ]
     },
     "execution_count": 139,
     "metadata": {},
     "output_type": "execute_result"
    }
   ],
   "source": [
    "word_occur[:,354]"
   ]
  },
  {
   "cell_type": "code",
   "execution_count": null,
   "metadata": {},
   "outputs": [],
   "source": []
  }
 ],
 "metadata": {
  "kernelspec": {
   "display_name": "Python 3",
   "language": "python",
   "name": "python3"
  },
  "language_info": {
   "codemirror_mode": {
    "name": "ipython",
    "version": 3
   },
   "file_extension": ".py",
   "mimetype": "text/x-python",
   "name": "python",
   "nbconvert_exporter": "python",
   "pygments_lexer": "ipython3",
   "version": "3.7.4"
  }
 },
 "nbformat": 4,
 "nbformat_minor": 2
}
